{
 "cells": [
  {
   "cell_type": "code",
   "execution_count": 6,
   "id": "15197e8c-22e7-4ff1-842c-0b37e8b5c8e9",
   "metadata": {},
   "outputs": [
    {
     "name": "stdout",
     "output_type": "stream",
     "text": [
      "0     4\n",
      "1     8\n",
      "2    15\n",
      "3    16\n",
      "4    23\n",
      "5    42\n",
      "dtype: int64\n"
     ]
    }
   ],
   "source": [
    "#Q1(Ans)\n",
    "import pandas as pd\n",
    "items=[4,8,15,16,23,42]\n",
    "s=pd.Series(items)\n",
    "print(s)"
   ]
  },
  {
   "cell_type": "code",
   "execution_count": 1,
   "id": "dcfbea1d-d61c-41ea-8d73-a1cdab294728",
   "metadata": {},
   "outputs": [
    {
     "name": "stdout",
     "output_type": "stream",
     "text": [
      "0     1\n",
      "1     2\n",
      "2     3\n",
      "3     4\n",
      "4     5\n",
      "5     6\n",
      "6     7\n",
      "7     8\n",
      "8     9\n",
      "9    10\n",
      "dtype: int64\n"
     ]
    }
   ],
   "source": [
    "#Q2(Ans)\n",
    "import pandas as pd\n",
    "a=[1,2,3,4,5,6,7,8,9,10]\n",
    "s=pd.Series(a)\n",
    "print(s)"
   ]
  },
  {
   "cell_type": "code",
   "execution_count": 5,
   "id": "adb274ed-55ca-43c7-9c90-8a2057103af0",
   "metadata": {},
   "outputs": [
    {
     "name": "stdout",
     "output_type": "stream",
     "text": [
      "     Name  Age  Gender\n",
      "0   Alice   25  Female\n",
      "1     Bob   30    Male\n",
      "2  Claire   27  Female\n"
     ]
    }
   ],
   "source": [
    "#Q3(Ans)\n",
    "import pandas as pd\n",
    "items={\"Name\": [\"Alice\",\"Bob\",\"Claire\"],\n",
    "       \"Age\": [25,30,27],\n",
    "       \"Gender\": [\"Female\",\"Male\",\"Female\"]}\n",
    "df=pd.DataFrame(items)\n",
    "print(df)"
   ]
  },
  {
   "cell_type": "code",
   "execution_count": null,
   "id": "d5133e33-42be-41e4-a76d-e57916b6ff2d",
   "metadata": {},
   "outputs": [],
   "source": [
    "#Q4(Ans)\n",
    "A Data frame is a two-dimensional data structure, i.e., data is aligned in a tabular fashion in rows and columns. \n",
    "Pandas DataFrame consists of three principal components, the data, rows, and columns.\n",
    "\n",
    "The main difference between Series and Dataframe. Series can only contain a single list with an index, \n",
    "whereas Dataframe can be made of more than one series or we can say that a Dataframe is a collection of series that can be used to analyze the data.\n"
   ]
  },
  {
   "cell_type": "code",
   "execution_count": 2,
   "id": "be29fe9b-c8e7-4afa-b2d3-62ffa05835f6",
   "metadata": {},
   "outputs": [
    {
     "name": "stdout",
     "output_type": "stream",
     "text": [
      "0    Jitender\n",
      "1     Purnima\n",
      "2       Arpit\n",
      "3       Jyoti\n",
      "dtype: object\n"
     ]
    }
   ],
   "source": [
    "#example of series\n",
    "import pandas as pd\n",
    "author = ['Jitender', 'Purnima',\n",
    "          'Arpit', 'Jyoti']\n",
    "df=pd.Series(author)\n",
    "print(df)\n"
   ]
  },
  {
   "cell_type": "code",
   "execution_count": 1,
   "id": "aea8e72c-5c6f-4c6c-b5c0-309c0ff85f60",
   "metadata": {},
   "outputs": [
    {
     "name": "stdout",
     "output_type": "stream",
     "text": [
      "     author  article\n",
      "0  Jitender      210\n",
      "1   Purnima      211\n",
      "2     Arpit      114\n",
      "3     Jyoti      178\n"
     ]
    }
   ],
   "source": [
    "#example od Dataframe\n",
    "import pandas as pd\n",
    "author = ['Jitender', 'Purnima',\n",
    "          'Arpit', 'Jyoti']\n",
    "article = [210, 211, 114, 178]\n",
    "\n",
    "author_series=pd.Series(author)\n",
    "article_series=pd.Series(article)\n",
    "frame={ \"author\":author_series,\n",
    "        \"article\":article_series}\n",
    "df1=pd.DataFrame(frame)\n",
    "print(df1)"
   ]
  },
  {
   "cell_type": "code",
   "execution_count": null,
   "id": "b5d2f4d9-e367-44b5-86ef-3d4244ef2c2b",
   "metadata": {},
   "outputs": [],
   "source": [
    "#Q5(Ans)\n",
    " 1.We can read the dataframe by using head() function also which is having an argument (n) i.e. number of rows to be displayed.\n",
    " 2.Counting the rows and columns in DataFrame using shape(). It returns the no. of rows and columns enclosed in a tuple.\n",
    " 3.Dropping the missing values in DataFrame, it can be done using the dropna() method, it removes all the NaN values in the dataframe.\n",
    " 4.Merging DataFrames using merge(), arguments passed are the dataframes to be merged along with the column name.\n",
    " 5.Renaming the columns of dataframe using rename(), arguments passed are the columns to be renamed & inplace."
   ]
  },
  {
   "cell_type": "code",
   "execution_count": null,
   "id": "a810162c-8046-42ff-8100-8b05ad04598a",
   "metadata": {},
   "outputs": [],
   "source": [
    "#Q6(Ans)\n",
    "DataFrame is the mutable in nature"
   ]
  },
  {
   "cell_type": "code",
   "execution_count": 4,
   "id": "9fbfc7f3-59f3-4bc5-bace-843579eebe6d",
   "metadata": {},
   "outputs": [
    {
     "name": "stdout",
     "output_type": "stream",
     "text": [
      "          Actors  Ages                Wife       Worths\n",
      "0    Salman Khan    57           Unmarried  2738 Crores\n",
      "1   Akshay Kumar    55      Twinkle Khanna  2471 Crores\n",
      "2    Anil Kapoor    66       Sunita Kapoor   134 Crores\n",
      "3   Kartik Aryan    32           Unmarried     46 Crore\n",
      "4      Amir Khan    58           Kiran Rao  1711 Crores\n",
      "5  Ranbir Kapoor    40          Alia Bhatt    345 Crore\n",
      "6   Ranbir Singh    37   Deepika Padukone     334 Crore\n"
     ]
    }
   ],
   "source": [
    "#Q7(Ans)\n",
    "import pandas as pd\n",
    "Actors=[\"Salman Khan\",\"Akshay Kumar\",\"Anil Kapoor\",\"Kartik Aryan\",\"Amir Khan\",\"Ranbir Kapoor\",\"Ranbir Singh\"]\n",
    "Ages=[57,55,66,32,58,40,37]\n",
    "Wife=[\"Unmarried\",\"Twinkle Khanna\",\"Sunita Kapoor\",\"Unmarried\",\"Kiran Rao\",\"Alia Bhatt\",\" Deepika Padukone \" ]\n",
    "Worths=[\"2738 Crores\",\"2471 Crores\",\"134 Crores\",\"46 Crore\",\"1711 Crores\",\"345 Crore\",\"334 Crore\"]\n",
    "\n",
    "a=pd.Series(Actors)\n",
    "b=pd.Series(Ages)\n",
    "c=pd.Series(Wife)\n",
    "d=pd.Series(Worths)\n",
    "\n",
    "data={\"Actors\":a,\n",
    "     \"Ages\":b,\n",
    "     \"Wife\":c,\n",
    "     \"Worths\":d}\n",
    "df2=pd.DataFrame(data)\n",
    "print(df2)"
   ]
  },
  {
   "cell_type": "code",
   "execution_count": null,
   "id": "f1baf08b-8dde-4ee2-b4c6-785e2fcce8ec",
   "metadata": {},
   "outputs": [],
   "source": []
  }
 ],
 "metadata": {
  "kernelspec": {
   "display_name": "Python 3 (ipykernel)",
   "language": "python",
   "name": "python3"
  },
  "language_info": {
   "codemirror_mode": {
    "name": "ipython",
    "version": 3
   },
   "file_extension": ".py",
   "mimetype": "text/x-python",
   "name": "python",
   "nbconvert_exporter": "python",
   "pygments_lexer": "ipython3",
   "version": "3.10.8"
  }
 },
 "nbformat": 4,
 "nbformat_minor": 5
}
